{
 "cells": [
  {
   "cell_type": "code",
   "execution_count": 1,
   "metadata": {},
   "outputs": [],
   "source": [
    "import data;"
   ]
  },
  {
   "cell_type": "code",
   "execution_count": 2,
   "metadata": {},
   "outputs": [],
   "source": [
    "# Task 01\n",
    "NIGEL = data.BANDS['Spinal Tap']['Nigel Tufnel']"
   ]
  },
  {
   "cell_type": "code",
   "execution_count": 3,
   "metadata": {},
   "outputs": [],
   "source": [
    "# Task 02\n",
    "CORRECTED = data.BANDS.copy()\n",
    "\n",
    "CORRECTED['Bob Dylan'] = ['vocals', 'guitar', 'harmonica']\n",
    "\n",
    "del CORRECTED['Van Halen']['David Lee Roth']"
   ]
  },
  {
   "cell_type": "code",
   "execution_count": 4,
   "metadata": {},
   "outputs": [],
   "source": [
    "CORRECTED['Van Halen'] = {'Sammy Hagar': 'vocals'}"
   ]
  },
  {
   "cell_type": "code",
   "execution_count": 5,
   "metadata": {},
   "outputs": [
    {
     "data": {
      "text/plain": [
       "['Eddie Van Halen', 'Sammy Hagar', 'Michael Anthony', 'Alex Van Halen']"
      ]
     },
     "execution_count": 5,
     "metadata": {},
     "output_type": "execute_result"
    }
   ],
   "source": [
    "CORRECTED['Van Halen'].keys()\n",
    "['Eddie Van Halen', 'Sammy Hagar', 'Michael Anthony', 'Alex Van Halen']"
   ]
  },
  {
   "cell_type": "code",
   "execution_count": 6,
   "metadata": {},
   "outputs": [],
   "source": [
    "# Task 03\n",
    "\n",
    "data.BANDS['Fleetwood Mac'].update(\n",
    "    {'Lindsey Buckingham': ['guitar', 'vocals'],\n",
    "    'Stevie Nicks': ['vocals', 'tambourine']}\n",
    ")"
   ]
  },
  {
   "cell_type": "code",
   "execution_count": 7,
   "metadata": {},
   "outputs": [
    {
     "data": {
      "text/plain": [
       "'Weapon X'"
      ]
     },
     "execution_count": 7,
     "metadata": {},
     "output_type": "execute_result"
    }
   ],
   "source": [
    "# Task 04\n",
    "\n",
    "data.SUPERHEROES['Logan']['alias']"
   ]
  },
  {
   "cell_type": "code",
   "execution_count": 8,
   "metadata": {},
   "outputs": [
    {
     "name": "stdout",
     "output_type": "stream",
     "text": [
      "Wolverine\n"
     ]
    }
   ],
   "source": [
    "# Task 04 - Task is a little uncler to me so here is my attempt.\n",
    "for x in data.SUPERHEROES['Logan']:\n",
    "  print('Wolverine')"
   ]
  },
  {
   "cell_type": "code",
   "execution_count": 38,
   "metadata": {},
   "outputs": [],
   "source": [
    "# Task 05\n",
    "\n",
    "DATA = {\n",
    "    10: 100,\n",
    "    20: 200,\n",
    "    30: 300,\n",
    "    40: 400,\n",
    "    50: 500,\n",
    "    60: 500,\n",
    "    70: 700,\n",
    "    80: 800,\n",
    "    90: 900,\n",
    "    100: 1000\n",
    "}"
   ]
  },
  {
   "cell_type": "code",
   "execution_count": 39,
   "metadata": {},
   "outputs": [],
   "source": [
    "def iter_dict_funky_sum(data):\n",
    "    total_product = 1\n",
    "    for key, value in data.items():\n",
    "        total_product = total_product *(value - key)\n",
    "    return total_product"
   ]
  },
  {
   "cell_type": "code",
   "execution_count": 40,
   "metadata": {},
   "outputs": [
    {
     "data": {
      "text/plain": [
       "103097241168768000000000000L"
      ]
     },
     "execution_count": 40,
     "metadata": {},
     "output_type": "execute_result"
    }
   ],
   "source": [
    "iter_dict_funky_sum(DATA)"
   ]
  },
  {
   "cell_type": "code",
   "execution_count": null,
   "metadata": {},
   "outputs": [],
   "source": []
  },
  {
   "cell_type": "code",
   "execution_count": null,
   "metadata": {},
   "outputs": [],
   "source": []
  }
 ],
 "metadata": {
  "kernelspec": {
   "display_name": "Python 2",
   "language": "python",
   "name": "python2"
  },
  "language_info": {
   "codemirror_mode": {
    "name": "ipython",
    "version": 2
   },
   "file_extension": ".py",
   "mimetype": "text/x-python",
   "name": "python",
   "nbconvert_exporter": "python",
   "pygments_lexer": "ipython2",
   "version": "2.7.15"
  }
 },
 "nbformat": 4,
 "nbformat_minor": 2
}
